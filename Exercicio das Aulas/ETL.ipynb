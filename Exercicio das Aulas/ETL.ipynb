{
  "nbformat": 4,
  "nbformat_minor": 0,
  "metadata": {
    "colab": {
      "provenance": []
    },
    "kernelspec": {
      "name": "python3",
      "display_name": "Python 3"
    },
    "language_info": {
      "name": "python"
    }
  },
  "cells": [
    {
      "cell_type": "markdown",
      "source": [
        "Primeira etapa, extrair os IDs da planilha CSV"
      ],
      "metadata": {
        "id": "sAhdc6D1S3jk"
      }
    },
    {
      "cell_type": "code",
      "source": [
        "import pandas as pd\n",
        "\n",
        "df = pd.read_csv('clients.csv')\n",
        "user_ids = df['UserID'].tolist()\n",
        "\n",
        "print(user_ids)\n"
      ],
      "metadata": {
        "colab": {
          "base_uri": "https://localhost:8080/"
        },
        "id": "LedBT45fS2g1",
        "outputId": "e68f3ef5-6945-4b29-c55d-cb1ce02e6323"
      },
      "execution_count": 13,
      "outputs": [
        {
          "output_type": "stream",
          "name": "stdout",
          "text": [
            "[2576, 2577, 2580, 2581]\n"
          ]
        }
      ]
    },
    {
      "cell_type": "markdown",
      "source": [
        "Extrair dados da API REST do Santander Dev Week"
      ],
      "metadata": {
        "id": "0SWGQ1SVTb4G"
      }
    },
    {
      "cell_type": "code",
      "source": [
        "import requests #trabalha com http\n",
        "import json #trabalha com json\n",
        "\n",
        "#variável com endereço base da api\n",
        "sdw2023_api_url = 'https://sdw-2023-prd.up.railway.app'\n",
        "\n",
        "#criar uma função para recupeação dos dados\n",
        "def get_user(id):\n",
        "  #aponta request como buscar os dados\n",
        "  response = requests.get(f'{sdw2023_api_url}/users/{id}')\n",
        "  #trata os dados recebidos no retorno da função\n",
        "  return response.json() if response.status_code == 200 else None\n",
        "\n",
        "# Compreensão de listas - laço for que varre cada id e vincula\n",
        "# user ao get_user(id) da função, se seu resultado for válido\n",
        "# := walrus\n",
        "users = [user for  id in user_ids if (user := get_user(id)) is not None]\n",
        "\n",
        "print(json.dumps(users, indent=2))\n"
      ],
      "metadata": {
        "colab": {
          "base_uri": "https://localhost:8080/"
        },
        "id": "PgUQuFU8TX_o",
        "outputId": "3f489cc9-7a4d-4902-cc06-8199e3791203"
      },
      "execution_count": 14,
      "outputs": [
        {
          "output_type": "stream",
          "name": "stdout",
          "text": [
            "[\n",
            "  {\n",
            "    \"id\": 2576,\n",
            "    \"name\": \"Carlos Santos\",\n",
            "    \"account\": {\n",
            "      \"id\": 2714,\n",
            "      \"number\": \"55555-1\",\n",
            "      \"agency\": \"1111\",\n",
            "      \"balance\": 3000.0,\n",
            "      \"limit\": 500.0\n",
            "    },\n",
            "    \"card\": {\n",
            "      \"id\": 2495,\n",
            "      \"number\": \"**** **** 9012 3456\",\n",
            "      \"limit\": 1000.0\n",
            "    },\n",
            "    \"features\": [],\n",
            "    \"news\": []\n",
            "  },\n",
            "  {\n",
            "    \"id\": 2577,\n",
            "    \"name\": \"Ana Lima\",\n",
            "    \"account\": {\n",
            "      \"id\": 2715,\n",
            "      \"number\": \"44444-2\",\n",
            "      \"agency\": \"2222\",\n",
            "      \"balance\": 7000.0,\n",
            "      \"limit\": 1200.0\n",
            "    },\n",
            "    \"card\": {\n",
            "      \"id\": 2496,\n",
            "      \"number\": \"**** **** 3456 7890\",\n",
            "      \"limit\": 1800.0\n",
            "    },\n",
            "    \"features\": [],\n",
            "    \"news\": []\n",
            "  },\n",
            "  {\n",
            "    \"id\": 2580,\n",
            "    \"name\": \"Luiz Souza\",\n",
            "    \"account\": {\n",
            "      \"id\": 2718,\n",
            "      \"number\": \"77777-3\",\n",
            "      \"agency\": \"3333\",\n",
            "      \"balance\": 6000.0,\n",
            "      \"limit\": 800.0\n",
            "    },\n",
            "    \"card\": {\n",
            "      \"id\": 2498,\n",
            "      \"number\": \"**** **** 7890 1234\",\n",
            "      \"limit\": 1300.0\n",
            "    },\n",
            "    \"features\": [],\n",
            "    \"news\": []\n",
            "  },\n",
            "  {\n",
            "    \"id\": 2581,\n",
            "    \"name\": \"Maria Oliveira\",\n",
            "    \"account\": {\n",
            "      \"id\": 2719,\n",
            "      \"number\": \"98065-4\",\n",
            "      \"agency\": \"5432\",\n",
            "      \"balance\": 8000.0,\n",
            "      \"limit\": 1500.0\n",
            "    },\n",
            "    \"card\": {\n",
            "      \"id\": 2499,\n",
            "      \"number\": \"**** **** 5678 1234\",\n",
            "      \"limit\": 2500.0\n",
            "    },\n",
            "    \"features\": [],\n",
            "    \"news\": []\n",
            "  }\n",
            "]\n"
          ]
        }
      ]
    },
    {
      "cell_type": "markdown",
      "source": [
        "Carregamento da IA \"Gervásio\""
      ],
      "metadata": {
        "id": "anGBIv9bcPtJ"
      }
    },
    {
      "cell_type": "code",
      "source": [
        "#!pip install transformers\n",
        "\n",
        "from transformers import AutoModelForCausalLM, AutoTokenizer\n",
        "\n",
        "model_name = \"PORTULAN/gervasio-ptbr-base\"\n",
        "\n",
        "tokenizer = AutoTokenizer.from_pretrained(\"PORTULAN/gervasio-ptbr-base\")\n",
        "model = AutoModelForCausalLM.from_pretrained(\"PORTULAN/gervasio-ptbr-base\")\n",
        "\n"
      ],
      "metadata": {
        "id": "oMx-R6dIcWnG"
      },
      "execution_count": 1,
      "outputs": []
    },
    {
      "cell_type": "markdown",
      "source": [
        "Geração de mensagens\n",
        "\n"
      ],
      "metadata": {
        "id": "cTFXlqYOltkc"
      }
    },
    {
      "cell_type": "code",
      "source": [
        "from transformers import AutoModelForCausalLM, AutoTokenizer\n",
        "import torch\n",
        "import random\n",
        "\n",
        "model_name = \"PORTULAN/gervasio-ptbr-base\"\n",
        "tokenizer = AutoTokenizer.from_pretrained(\"PORTULAN/gervasio-ptbr-base\")\n",
        "model = AutoModelForCausalLM.from_pretrained(\"PORTULAN/gervasio-ptbr-base\")\n",
        "\n",
        "\n",
        "def generate_ia_news(user):\n",
        "# Inicializa a lista que irá armazenar as mensagens personalizadas\n",
        "    mensagens_personalizadas = []\n",
        "\n",
        "# Loop pelos clientes no banco de dados\n",
        "    for cliente in clientes:\n",
        "        nome = cliente[\"name\"]\n",
        "        saldo = cliente[\"account\"][\"balance\"]\n",
        "        limite_credito = cliente[\"account\"][\"limit\"]\n",
        "\n",
        "# Gera a modelo de mensagem, com base no saldo e no limite de crédito\n",
        "\n",
        "    prompts = [\n",
        "    \"Olá, {nome}! Notamos que você possui um saldo de R${saldo:.2f} e um limite de crédito de R${limite_credito:.2f}. Descubra nossas soluções de investimento e maximize seus ganhos!\",\n",
        "    \"Caro cliente {nome}, com um saldo de R${saldo:.2f} e um limite de crédito de R${limite_credito:.2f}, você está em uma posição privilegiada para aproveitar ao máximo nossos serviços bancários personalizados. Explore agora!\",\n",
        "    \"Prezado {nome}, seu saldo de R${saldo:.2f} e limite de crédito de R${limite_credito:.2f} abrem portas para uma ampla gama de benefícios bancários. Conheça nossos produtos exclusivos e otimize sua experiência conosco.\"\n",
        "]\n",
        "\n",
        "# Escolhe aleatoriamente um prompt\n",
        "    prompt = random.choice(prompts)\n",
        "\n",
        "# Substitui as variáveis no prompt pelos valores do cliente\n",
        "    prompt = prompt.format(nome=nome, saldo=saldo, limite_credito=limite_credito)\n",
        "\n",
        "# Gera a mensagem personalizada usando o modelo\n",
        "    input_ids = tokenizer.encode(prompt, return_tensors='pt', padding=False)\n",
        "    attention_mask = [1] * len(input_ids[0])\n",
        "    output = model.generate(\n",
        "        input_ids,\n",
        "        max_length=200,\n",
        "        do_sample=False,\n",
        "        #temperature=0.3,\n",
        "        pad_token_id=tokenizer.eos_token_id,\n",
        "        attention_mask=torch.tensor([attention_mask])\n",
        "        )\n",
        "    mensagem_personalizada = tokenizer.decode(output[0], skip_special_tokens=True)\n",
        "\n",
        "# Adiciona a mensagem personalizada à lista de mensagens personalizadas\n",
        "\n",
        "    mensagens_personalizadas.append(mensagem_personalizada)\n",
        "\n",
        "    return mensagens_personalizadas\n",
        "\n",
        "clientes = [{'id': 2576, 'name': 'Carlos Santos', 'account': {'id': 2714, 'number': '55555-1', 'agency': '1111', 'balance': 3000.0, 'limit': 500.0}, 'card': {'id': 2495, 'number': '**** **** 9012 3456', 'limit': 1000.0}, 'features': [], 'news': []}, {'id': 2577, 'name': 'Ana Lima', 'account': {'id': 2715, 'number': '44444-2', 'agency': '2222', 'balance': 7000.0, 'limit': 1200.0}, 'card': {'id': 2496, 'number': '**** **** 3456 7890', 'limit': 1800.0}, 'features': [], 'news': []}, {'id': 2580, 'name': 'Luiz Souza', 'account': {'id': 2718, 'number': '77777-3', 'agency': '3333', 'balance': 6000.0, 'limit': 800.0}, 'card': {'id': 2498, 'number': '**** **** 7890 1234', 'limit': 1300.0}, 'features': [], 'news': []}, {'id': 2581, 'name': 'Maria Oliveira', 'account': {'id': 2719, 'number': '98065-4', 'agency': '5432', 'balance': 8000.0, 'limit': 1500.0}, 'card': {'id': 2499, 'number': '**** **** 5678 1234', 'limit': 2500.0}, 'features': [], 'news': []}]\n",
        "\n",
        "mensagens = generate_ia_news(clientes)\n",
        "for mensagem in mensagens:\n",
        "    print(mensagem)\n",
        "\n",
        "\n",
        "\n"
      ],
      "metadata": {
        "colab": {
          "base_uri": "https://localhost:8080/"
        },
        "id": "dxpBflc4lzeG",
        "outputId": "94fa9fb0-3c0d-439c-88a5-556d9628d9f8"
      },
      "execution_count": 2,
      "outputs": [
        {
          "output_type": "stream",
          "name": "stdout",
          "text": [
            "Olá, Maria Oliveira! Notamos que você possui um saldo de R$8000.00 e um limite de crédito de R$1500.00. Descubra nossas soluções de investimento e maximize seus ganhos!\n",
            "Abraços,\n",
            "Equipe Investimentos\n",
            "Responder\n",
            "Maria Oliveira disse:\n",
            "13 de julho de 2016 às 16:56\n",
            "Olá,\n",
            "Você possui um saldo de R$8000.00 e um limite de crédito de R$1500.00.\n",
            "Como você está buscando um crédito de R$1500.00, você pode encontrar diversas instituições financeiras que oferecem esse tipo de produto.\n",
            "Então, se você quer encontrar um crédito de R$1500.00, você pode optar por uma das instituições abaixo\n"
          ]
        }
      ]
    },
    {
      "cell_type": "markdown",
      "source": [
        "Load (Carregamento) com HTTP PUT"
      ],
      "metadata": {
        "id": "UREmOskgPbuf"
      }
    },
    {
      "cell_type": "code",
      "source": [
        "import requests\n",
        "\n",
        "sdw2023_api_url = 'https://sdw-2023-prd.up.railway.app'\n",
        "\n",
        "def update_user(user):\n",
        "    response = requests.put(f'{sdw2023_api_url}/users/{user[\"id\"]}', json=user)\n",
        "    return True if response.status_code == 200 else False\n",
        "\n",
        "for client in clientes:\n",
        "    success = update_user(client)\n",
        "    print(f'User {client[\"name\"]} updated? {success}!')"
      ],
      "metadata": {
        "colab": {
          "base_uri": "https://localhost:8080/"
        },
        "id": "ODt44y10PfNu",
        "outputId": "6131d1c0-9f99-4775-9b2a-50ddbfb51679"
      },
      "execution_count": 5,
      "outputs": [
        {
          "output_type": "stream",
          "name": "stdout",
          "text": [
            "User Carlos Santos updated? True!\n",
            "User Ana Lima updated? True!\n",
            "User Luiz Souza updated? True!\n",
            "User Maria Oliveira updated? True!\n"
          ]
        }
      ]
    }
  ]
}